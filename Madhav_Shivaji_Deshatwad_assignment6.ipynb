{
  "cells": [
    {
      "cell_type": "markdown",
      "metadata": {
        "id": "view-in-github",
        "colab_type": "text"
      },
      "source": [
        "<a href=\"https://colab.research.google.com/github/sdmadhav/ML-Project/blob/main/Madhav_Shivaji_Deshatwad_assignment6.ipynb\" target=\"_parent\"><img src=\"https://colab.research.google.com/assets/colab-badge.svg\" alt=\"Open In Colab\"/></a>"
      ]
    },
    {
      "cell_type": "markdown",
      "id": "cb76b3e1-4748-4910-9919-abecaae7d56d",
      "metadata": {
        "id": "cb76b3e1-4748-4910-9919-abecaae7d56d"
      },
      "source": [
        "# 1. Database Creation (1.5 Marks)\n",
        "## 1. Create a database named IIT Palakkad and the following tables with at least 10 entries each:\n",
        "> student (id, name, dept_name, gate_score, cgpa)\n",
        ">\n",
        "> assistant (id, course_id, sec_id, sem, year)\n",
        ">\n",
        "> course (course_name, course_id, credit, dept_name)\n",
        "* Choices:\n",
        ">\n",
        "> dept_name = (\"DS\", \"PEPS\", \"SOCD\")\n",
        ">\n",
        "> sem = (1, 2, 3, 4)\n",
        ">\n",
        ">  year = (2023, 2024)\n",
        ">\n",
        "> credit = (3, 4, 5)\n",
        ">\n",
        ">  gate_score is out of 1000"
      ]
    },
    {
      "cell_type": "markdown",
      "source": [
        "\n"
      ],
      "metadata": {
        "id": "WHpelqnNrTgp"
      },
      "id": "WHpelqnNrTgp"
    },
    {
      "cell_type": "markdown",
      "id": "1ea55675-4e30-49f6-9e49-23b4635a99dc",
      "metadata": {
        "id": "1ea55675-4e30-49f6-9e49-23b4635a99dc"
      },
      "source": [
        "```sql\n",
        "create database iit_palakkad;\n",
        "```\n",
        "![alt text](./1.png \"OUTPUT\")\n",
        "\n",
        "```sql\n",
        "\n",
        "create table student (\n",
        "    id SERIAL PRIMARY KEY NOT NULL,\n",
        "    name VARCHAR(50) NOT NULL,\n",
        "    dept_name VARCHAR(10) CHECK (dept_name IN ('DS', 'PEPS', 'SOCD')) NOT NULL,\n",
        "    gate_score INT CHECK (gate_score BETWEEN 0 AND 1000) NOT NULL,\n",
        "    cgpa DECIMAL(3, 2) NOT NULL\n",
        ");\n",
        "\n",
        "\n",
        "create table assistant (\n",
        "    id INT NOT NULL,\n",
        "    course_id INT NOT NULL,\n",
        "    sec_id VARCHAR(5) NOT NULL,\n",
        "    sem INT CHECK (sem IN (1, 2, 3, 4)) NOT NULL,\n",
        "    year INT CHECK (year IN (2023, 2024)) NOT NULL,\n",
        "    FOREIGN KEY (id) REFERENCES student(id)\n",
        ");\n",
        "\n",
        "\n",
        "create table course (\n",
        "    course_name VARCHAR(100) NOT NULL,\n",
        "    course_id INT PRIMARY KEY NOT NULL,\n",
        "    credit INT CHECK (credit IN (3, 4, 5)) NOT NULL,\n",
        "    dept_name VARCHAR(10) CHECK (dept_name IN ('DS', 'PEPS', 'SOCD')) NOT NULL\n",
        ");\n",
        "\n",
        "```\n",
        "\n",
        "![alt text](/content/2.png \"OUTPUT\")\n",
        "\n",
        "```sql\n",
        "\n",
        "insert into student (name, dept_name, gate_score, cgpa) VALUES\n",
        "('Madhav', 'DS', 800, 8.5),\n",
        "('Basvesh', 'PEPS', 700, 7.8),\n",
        "('Shiva', 'SOCD', 650, 7.3),\n",
        "('Prem', 'DS', 850, 9.0),\n",
        "('Juli', 'PEPS', 780, 8.1),\n",
        "('Sam', 'SOCD', 720, 8.4),\n",
        "('Adi', 'DS', 700, 9.5),\n",
        "('Jay', 'PEPS', 680, 7.0),\n",
        "('Aish', 'SOCD', 600, 6.8),\n",
        "('Moore', 'DS', 820, 8.7),\n",
        "('Kumar', 'DS', 780, 8.2),\n",
        "('Leela', 'PEPS', 830, 8.6),\n",
        "('Mohan', 'SOCD', 620, 7.0),\n",
        "('Nina', 'DS', 870, 9.2),\n",
        "('Oscar', 'PEPS', 750, 8.0),\n",
        "('Priya', 'SOCD', 680, 7.4),\n",
        "('Raj', 'DS', 910, 9.8),\n",
        "('Sara', 'PEPS', 720, 7.5),\n",
        "('Tina', 'SOCD', 640, 7.2),\n",
        "('Umesh', 'DS', 760, 8.0);\n",
        "\n",
        "```\n",
        "![alt text](/content/3.png \"OUTPUT\")\n",
        "\n",
        "```sql\n",
        "\n",
        "insert into assistant (id, course_id, sec_id, sem, year) VALUES\n",
        "(1, 101, 'A', 2, 2023),\n",
        "(2, 102, 'B', 1, 2024),\n",
        "(3, 103, 'C', 3, 2023),\n",
        "(1, 101, 'A', 2, 2024),\n",
        "(4, 104, 'D', 4, 2023),\n",
        "(5, 102, 'B', 2, 2023),\n",
        "(6, 103, 'C', 2, 2024),\n",
        "(7, 104, 'D', 3, 2023),\n",
        "(8, 105, 'E', 1, 2024),\n",
        "(9, 101, 'A', 3, 2023),\n",
        "(10, 104, 'D', 4, 2024),\n",
        "(5, 105, 'E', 2, 2023),\n",
        "(6, 101, 'A', 1, 2023);\n",
        "\n",
        "```\n",
        "\n",
        "![alt text](/content/4.png \"OUTPUT\")\n",
        "\n",
        "```sql\n",
        "insert into course (course_name, course_id, credit, dept_name) VALUES\n",
        "('Power Systems', 102, 5, 'PEPS'),\n",
        "('Electrical Engineering', 110, 5, 'PEPS'),\n",
        "('Quantum Computing', 107, 4, 'PEPS'),\n",
        "('Engineering Ethics', 105, 4, 'PEPS'),\n",
        "('Sociology of Technology', 103, 3, 'SOCD'),\n",
        "('Ethics and Society', 108, 3, 'SOCD'),\n",
        "('AI and Machine Learning', 106, 5, 'DS'),\n",
        "('Advanced Data Science', 104, 4, 'DS'),\n",
        "('Data Analytics', 109, 4, 'DS'),\n",
        "('Data Science Basics', 101, 4, 'DS');\n",
        "\n",
        "```\n",
        "![alt text](/content/5.png \"OUTPUT\")"
      ]
    },
    {
      "cell_type": "markdown",
      "id": "6cfdcd52-96ff-4f42-b513-70cc45bfdec5",
      "metadata": {
        "id": "6cfdcd52-96ff-4f42-b513-70cc45bfdec5"
      },
      "source": [
        "## 2. Write queries to display each of the individual tables (student, assistant, and course) in full.\n",
        "```sql\n",
        "SELECT * FROM student;\n",
        "\n",
        "```\n",
        "![alt text](/content//content/6.png \"OUTPUT\")\n",
        "\n",
        "```sql\n",
        "SELECT * FROM assistant;\n",
        "\n",
        "```\n",
        "![alt text](/content/7.png \"OUTPUT\")\n",
        "\n",
        "```sql\n",
        "SELECT * FROM course;\n",
        "```\n",
        "![alt text](/content/8.png \"OUTPUT\")\n"
      ]
    },
    {
      "cell_type": "markdown",
      "id": "983c506c-6e1d-4b28-9f3b-78de8491fd4d",
      "metadata": {
        "id": "983c506c-6e1d-4b28-9f3b-78de8491fd4d"
      },
      "source": [
        "# 2. Retrieve DS Students with High CGPA (0.5 Marks)\n",
        "## 1. Retrieve the names of all students in the DS department who have a CGPA greater than 8.\n",
        "\n",
        "```sql\n",
        "select name\n",
        "from student\n",
        "where dept_name ='DS' and cgpa > 8;\n",
        "\n",
        "```\n",
        "![alt text](/content//content/9.png \"OUTPUT\")\n",
        "## 2. Modify the query to include only students who also have a gate score greater than 750\n",
        "\n",
        "```sql\n",
        "select name\n",
        "from student\n",
        "where dept_name = 'DS' and cgpa > 8 and gate_score > 750;\n",
        "\n",
        "```\n",
        "![alt text](/content/10.png \"OUTPUT\")"
      ]
    },
    {
      "cell_type": "markdown",
      "id": "daa09166-871a-4071-9be7-9150100d1e24",
      "metadata": {
        "id": "daa09166-871a-4071-9be7-9150100d1e24"
      },
      "source": [
        "# 3. Courses Taught in Semester 2 (2023) (0.5 Marks)\n",
        "## 1. Retrieve the course IDs of the courses being taught in semester 2 during the year 2023\n",
        "\n",
        "```sql\n",
        "SELECT course_id\n",
        "FROM assistant\n",
        "WHERE sem = 2 AND year = 2023;\n",
        "\n",
        "```\n",
        "![alt text](/content//content/11.png \"OUTPUT\")\n",
        "\n",
        "## 2. Also retrieve the course names along with their course IDs for courses being taught in semester 2 of the year 2023.\n",
        "\n",
        "```sql\n",
        "select course_name, course_id\n",
        "from course\n",
        "where course_id in (SELECT course_id\n",
        "FROM assistant\n",
        "WHERE sem = 2 AND year = 2023);\n",
        "\n",
        "```\n",
        "![alt text](/content/12.png \"OUTPUT\")"
      ]
    },
    {
      "cell_type": "markdown",
      "id": "3c811153-579a-4967-abca-4f61e1cb2be5",
      "metadata": {
        "id": "3c811153-579a-4967-abca-4f61e1cb2be5"
      },
      "source": [
        "# 4. Department-wise Student Count and Average Gate Score (1 Marks)\n",
        "## 1. Write a query to list the number of students and the average gate score for each department, sorted in ascending order by the number of students.\n",
        "\n",
        "```sql\n",
        "select dept_name, count(*) as student_count, avg(gate_score)\n",
        "from student\n",
        "group by dept_name\n",
        "order by student_count asc;\n",
        "\n",
        "```\n",
        "![alt text](/content//content/13.png \"OUTPUT\")\n",
        "\n",
        "\n",
        "## 2. Additionally, filter out departments where the number of students is less than 5.\n",
        "```sql\n",
        "select dept_name, count(*) as student_count, avg(gate_score)\n",
        "from student\n",
        "group by dept_name\n",
        "having count(*) < 5\n",
        "order by student_count asc;\n",
        "\n",
        "```\n",
        "![alt text](/content/14.png \"OUTPUT\")"
      ]
    },
    {
      "cell_type": "markdown",
      "id": "4c52ffb2-7aa0-4163-b427-eb19c726ef82",
      "metadata": {
        "id": "4c52ffb2-7aa0-4163-b427-eb19c726ef82"
      },
      "source": [
        "# 5. Students Serving as Teaching Assistants (0.75 Marks)\n",
        "\n",
        "### 1.  Retrieve the names of students along with their departments who are teaching assistants in semester 2, sorted in reverse alphabetical order by name.\n",
        "\n",
        "```sql\n",
        "select distinct(name), dept_name\n",
        "from student\n",
        "join assistant on student.id = assistant.id\n",
        "where assistant.sem=2 and assistant.year=2024\n",
        "order by name desc;\n",
        "\n",
        "```\n",
        "![alt text](/content//content/15.png \"OUTPUT\")\n",
        "\n",
        "\n",
        "### 2.  Modify the query to only include teaching assistants who are assisting in courses with a credit of 4 or more.\n",
        "\n",
        "```sql\n",
        "select distinct(name), s.dept_name\n",
        "from student as s\n",
        "join assistant as a on s.id = a.id\n",
        "join course as c on a.course_id = c.course_id\n",
        "where c.credit >= 4 and a.sem=2 and a.year=2024\n",
        "order by name desc;\n",
        "\n",
        "```\n",
        "![alt text](/content/16.png \"OUTPUT\")"
      ]
    },
    {
      "cell_type": "markdown",
      "id": "90178a6a-09c0-44d0-a69b-3f0cb57225cc",
      "metadata": {
        "id": "90178a6a-09c0-44d0-a69b-3f0cb57225cc"
      },
      "source": [
        "# 6. Teaching Assistants for 4+ Credit Courses (0.75 Marks)\n",
        "\n",
        "### 1. Retrieve the names of students, along with the courses they are assisting in, for courses that have at least 4 credits.\n",
        "\n",
        "```sql\n",
        "SELECT student.name, course.course_name\n",
        "FROM student\n",
        "JOIN assistant ON student.id = assistant.id\n",
        "JOIN course ON assistant.course_id = course.course_id\n",
        "WHERE course.credit >= 4 and assistant.year = 2024;\n",
        "\n",
        "```\n",
        "![output](/content//content/17.png 'output')\n",
        "\n",
        "\n",
        "### 2. Add the department name of each student to the query results.\n",
        "\n",
        "```sql\n",
        "SELECT student.name, course.course_name, student.dept_name\n",
        "FROM student\n",
        "JOIN assistant ON student.id = assistant.id\n",
        "JOIN course ON assistant.course_id = course.course_id\n",
        "WHERE course.credit >= 4 and assistant.year = 2024;\n",
        "\n",
        "```\n",
        "![output](/content/18.png 'output')"
      ]
    },
    {
      "cell_type": "markdown",
      "id": "055500f6-102b-433e-9bd4-1998f65044fa",
      "metadata": {
        "id": "055500f6-102b-433e-9bd4-1998f65044fa"
      },
      "source": [
        "# 7. Nested Query for Department-wise Average Gate Score (1.5 Marks)\n",
        "\n",
        "### 1. Use a nested query in the FROM clause to retrieve the names of departments along with their average gate scores, where the average gate score is greater than 500.\n",
        "\n",
        "```sql\n",
        "select dept_name, average_score\n",
        "from (\n",
        "select dept_name, avg(gate_score) as average_score\n",
        "from student\n",
        "group by dept_name\n",
        ") as new\n",
        "where average_score>500;\n",
        "\n",
        "```\n",
        "![output](/content//content/19.png 'output')\n",
        "\n",
        "\n",
        "### 2. Extend the query to show both the total number of students and the average CGPA for each department, along with the average gate score.\n",
        "\n",
        "```sql\n",
        "select dept_name, average_score,num_of_stud, average_cgpa\n",
        "from (\n",
        "select dept_name, count(id) as num_of_stud, avg(gate_score) as average_score, avg(cgpa) as average_cgpa\n",
        "from student\n",
        "group by dept_name\n",
        ") as new\n",
        "where average_score>500;\n",
        "\n",
        "```\n",
        "![output](/content/20.png 'output')"
      ]
    },
    {
      "cell_type": "code",
      "execution_count": null,
      "id": "682d0102-e375-4294-b98f-ee3f8ed9c082",
      "metadata": {
        "id": "682d0102-e375-4294-b98f-ee3f8ed9c082"
      },
      "outputs": [],
      "source": []
    }
  ],
  "metadata": {
    "kernelspec": {
      "display_name": "Python 3 (ipykernel)",
      "language": "python",
      "name": "python3"
    },
    "language_info": {
      "codemirror_mode": {
        "name": "ipython",
        "version": 3
      },
      "file_extension": ".py",
      "mimetype": "text/x-python",
      "name": "python",
      "nbconvert_exporter": "python",
      "pygments_lexer": "ipython3",
      "version": "3.9.19"
    },
    "colab": {
      "provenance": [],
      "include_colab_link": true
    }
  },
  "nbformat": 4,
  "nbformat_minor": 5
}