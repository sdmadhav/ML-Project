{
  "nbformat": 4,
  "nbformat_minor": 0,
  "metadata": {
    "colab": {
      "provenance": [],
      "authorship_tag": "ABX9TyM8U0p8nH+iccCyZLRCvRI8",
      "include_colab_link": true
    },
    "kernelspec": {
      "name": "python3",
      "display_name": "Python 3"
    },
    "language_info": {
      "name": "python"
    }
  },
  "cells": [
    {
      "cell_type": "markdown",
      "metadata": {
        "id": "view-in-github",
        "colab_type": "text"
      },
      "source": [
        "<a href=\"https://colab.research.google.com/github/sdmadhav/ML-Project/blob/main/emojify_project.ipynb\" target=\"_parent\"><img src=\"https://colab.research.google.com/assets/colab-badge.svg\" alt=\"Open In Colab\"/></a>"
      ]
    },
    {
      "cell_type": "code",
      "execution_count": null,
      "metadata": {
        "id": "IseHQs_gYLuY"
      },
      "outputs": [],
      "source": [
        "# prompt: do you have any dataset ready for text summarization project\n",
        "\n",
        "!wget <URL_TO_DATASET_FILE>  # replace with actual URL\n",
        "!unzip <DATASET_FILE_NAME>     # replace with actual filename; use !tar -xzvf for tar.gz files\n",
        "\n",
        "# Example path to your data (adjust as needed)\n",
        "# data_dir = '/content/dataset_name'\n"
      ]
    },
    {
      "cell_type": "code",
      "source": [
        "https://data-flair.training/blogs/machine-learning-text-summarization/"
      ],
      "metadata": {
        "id": "vIg6baYbhAAC"
      },
      "execution_count": null,
      "outputs": []
    }
  ]
}